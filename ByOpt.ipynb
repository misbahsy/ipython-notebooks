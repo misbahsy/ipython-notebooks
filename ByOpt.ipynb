{
  "nbformat": 4,
  "nbformat_minor": 0,
  "metadata": {
    "colab": {
      "name": "ByOpt.ipynb",
      "provenance": [],
      "authorship_tag": "ABX9TyPfqyU6hR0wKOEWzXwZKHTB",
      "include_colab_link": true
    },
    "kernelspec": {
      "name": "python3",
      "display_name": "Python 3"
    }
  },
  "cells": [
    {
      "cell_type": "markdown",
      "metadata": {
        "id": "view-in-github",
        "colab_type": "text"
      },
      "source": [
        "<a href=\"https://colab.research.google.com/github/misbahsy/ipython-notebooks/blob/master/ByOpt.ipynb\" target=\"_parent\"><img src=\"https://colab.research.google.com/assets/colab-badge.svg\" alt=\"Open In Colab\"/></a>"
      ]
    },
    {
      "cell_type": "code",
      "metadata": {
        "id": "xGQeL18Pl6Wi"
      },
      "source": [
        "from math import sin\n",
        "from math import pi\n",
        "from numpy import arange\n",
        "from numpy import vstack\n",
        "from numpy import argmax\n",
        "from numpy import asarray\n",
        "from numpy.random import normal\n",
        "from numpy.random import random\n",
        "from scipy.stats import norm\n",
        "from sklearn.gaussian_process import GaussianProcessRegressor\n",
        "from warnings import catch_warnings\n",
        "from warnings import simplefilter\n",
        "from matplotlib import pyplot"
      ],
      "execution_count": null,
      "outputs": []
    },
    {
      "cell_type": "code",
      "metadata": {
        "id": "ndoGRRsEtxWE",
        "outputId": "9f8593e2-1fd0-4886-e5da-c5451b9216ed",
        "colab": {
          "base_uri": "https://localhost:8080/",
          "height": 283
        }
      },
      "source": [
        "#obj func\n",
        "def objective(x, noise=0.1):\n",
        "  noise = normal(loc=0, scale=noise)\n",
        "  return (x**2 * sin(5 * pi * x)**6.0) + noise\n",
        "\n",
        "#grid based sample of the domain [0,1]\n",
        "X = arange(0, 1, 0.01)\n",
        "#sample the domain without noise\n",
        "y= [objective(x,0) for x in X]\n",
        "#sample the domain with noise\n",
        "ynoise= [objective(x,0) for x in X]\n",
        "#find best result\n",
        "ix = argmax(y)\n",
        "print('Optima: x=%.3f, y=%.3f' %(X[ix], y[ix]))\n",
        "#plot with noise\n",
        "pyplot.scatter(X, ynoise)\n",
        "#plot without noise\n",
        "pyplot.plot(X, y)\n",
        "#show the plot\n",
        "pyplot.show()"
      ],
      "execution_count": null,
      "outputs": [
        {
          "output_type": "stream",
          "text": [
            "Optima: x=0.900, y=0.810\n"
          ],
          "name": "stdout"
        },
        {
          "output_type": "display_data",
          "data": {
            "image/png": "[encoded data removed]",
            "text/plain": [
              "<Figure size 432x288 with 1 Axes>"
            ]
          },
          "metadata": {
            "tags": [],
            "needs_background": "light"
          }
        }
      ]
    },
    {
      "cell_type": "code",
      "metadata": {
        "id": "loVHrVLiTfug"
      },
      "source": [
        "#obj func\n",
        "def objective(x, noise=0.1):\n",
        "  noise = normal(loc=0, scale=noise)\n",
        "  return (x**2 * sin(5 * pi * x)**6.0) + noise"
      ],
      "execution_count": null,
      "outputs": []
    },
    {
      "cell_type": "code",
      "metadata": {
        "id": "v7YGpoJyTrcK"
      },
      "source": [
        "def surrogate(model, X):\n",
        "  with catch_warnings():\n",
        "    simplefilter(\"ignore\")\n",
        "    return model.predict(X, return_std=True)"
      ],
      "execution_count": null,
      "outputs": []
    },
    {
      "cell_type": "code",
      "metadata": {
        "id": "0uviqywMT-tU"
      },
      "source": [
        "def plot(X, y, model):\n",
        "  pyplot.scatter(X, y)\n",
        "  Xsamples = asarray(arange(0, 1, 0.001))\n",
        "  Xsamples = Xsamples.reshape(len(Xsamples), 1)\n",
        "  ysamples, _ = surrogate(model, Xsamples)\n",
        "  pyplot.plot(Xsamples, ysamples)\n",
        "  pyplot.show()"
      ],
      "execution_count": null,
      "outputs": []
    },
    {
      "cell_type": "code",
      "metadata": {
        "id": "JZAIOKmOUl6i",
        "outputId": "cfc45672-f0a9-4739-ce9f-fe9585443c08",
        "colab": {
          "base_uri": "https://localhost:8080/",
          "height": 265
        }
      },
      "source": [
        "X = random(100)\n",
        "y = asarray([objective(x) for x in X])\n",
        "X = X.reshape(len(X), 1)\n",
        "y = y.reshape(len(y), 1)\n",
        "model = GaussianProcessRegressor()\n",
        "model.fit(X, y)\n",
        "plot(X, y, model)"
      ],
      "execution_count": null,
      "outputs": [
        {
          "output_type": "display_data",
          "data": {
            "image/png": "[encoded data removed]",
            "text/plain": [
              "<Figure size 432x288 with 1 Axes>"
            ]
          },
          "metadata": {
            "tags": [],
            "needs_background": "light"
          }
        }
      ]
    },
    {
      "cell_type": "code",
      "metadata": {
        "id": "ODuHbCpSY1AV"
      },
      "source": [
        "def acquisition(X, Xsamples, model):\n",
        "  #best surrogate score\n",
        "  yhat, _ = surrogate(model, X)\n",
        "  best  = max(yhat)\n",
        "  #calc mean and stdev via surogate\n",
        "  mu, std = surrogate(model, Xsamples)\n",
        "  mu = mu[:, 0]\n",
        "  #cal the PI\n",
        "  probs = norm.cdf((mu - best)/ (std+1E-9))\n",
        "  return probs\n",
        "\n",
        "def opt_acquisition(X, y, model):\n",
        "  #random search and samples\n",
        "  Xsamples = random(100)\n",
        "  Xsamples = Xsamples.reshape(len(Xsamples), 1)\n",
        "  #calc acq func\n",
        "  scores = acquisition(X, Xsamples, model)\n",
        "  #locate index of largest scores\n",
        "  ix = argmax(scores)\n",
        "  return Xsamples[ix, 0]"
      ],
      "execution_count": null,
      "outputs": []
    },
    {
      "cell_type": "code",
      "metadata": {
        "id": "HESt94IkVlHX",
        "outputId": "3f3eca5c-d53c-4e01-ce67-3fcb025cf254",
        "colab": {
          "base_uri": "https://localhost:8080/",
          "height": 1000
        }
      },
      "source": [
        "for i in range(100):\n",
        "  x = opt_acquisition(X, y, model)\n",
        "  actual = objective(x)\n",
        "  est, _ =  surrogate(model, [[x]])\n",
        "  print('>x=%.3f, f()=%3f, actual=%.3f' % (x, est, actual))\n",
        "  X = vstack((X, [[x]]))\n",
        "  y = vstack((y, [[actual]]))\n",
        "  model.fit(X,y)\n",
        "\n",
        "plot(X, y, model)\n",
        "ix = argmax(y)\n",
        "print('Best Result: x=%.3f, y=%.3f' % (X[ix], y[ix]))"
      ],
      "execution_count": null,
      "outputs": [
        {
          "output_type": "stream",
          "text": [
            ">x=0.908, f()=0.467276, actual=0.719\n",
            ">x=0.896, f()=0.467003, actual=0.780\n",
            ">x=0.948, f()=0.496469, actual=0.274\n",
            ">x=0.922, f()=0.503437, actual=0.604\n",
            ">x=0.639, f()=0.084913, actual=-0.023\n",
            ">x=0.923, f()=0.511818, actual=0.627\n",
            ">x=0.950, f()=0.465708, actual=0.046\n",
            ">x=0.933, f()=0.470275, actual=0.324\n",
            ">x=0.891, f()=0.468928, actual=0.743\n",
            ">x=0.429, f()=0.094843, actual=-0.112\n",
            ">x=0.291, f()=0.025054, actual=0.189\n",
            ">x=0.911, f()=0.499832, actual=0.856\n",
            ">x=0.932, f()=0.491663, actual=0.494\n",
            ">x=0.111, f()=0.001535, actual=-0.057\n",
            ">x=0.146, f()=0.006084, actual=-0.047\n",
            ">x=0.912, f()=0.519018, actual=0.572\n",
            ">x=0.908, f()=0.521303, actual=0.876\n",
            ">x=0.913, f()=0.538083, actual=0.721\n",
            ">x=0.912, f()=0.546376, actual=0.759\n",
            ">x=0.896, f()=0.544442, actual=0.764\n",
            ">x=0.911, f()=0.564419, actual=0.847\n",
            ">x=0.845, f()=0.411849, actual=-0.005\n",
            ">x=0.354, f()=0.049219, actual=-0.083\n",
            ">x=0.418, f()=0.080568, actual=0.072\n",
            ">x=0.614, f()=0.083600, actual=0.026\n",
            ">x=0.897, f()=0.553300, actual=0.830\n",
            ">x=0.903, f()=0.572095, actual=0.802\n",
            ">x=0.663, f()=0.053149, actual=0.292\n",
            ">x=0.785, f()=0.191542, actual=0.218\n",
            ">x=0.815, f()=0.292663, actual=-0.130\n",
            ">x=0.909, f()=0.578709, actual=0.809\n",
            ">x=0.214, f()=0.019914, actual=-0.022\n",
            ">x=0.564, f()=0.117743, actual=0.064\n",
            ">x=0.914, f()=0.588658, actual=0.863\n",
            ">x=0.895, f()=0.576107, actual=0.728\n",
            ">x=0.918, f()=0.601626, actual=0.640\n",
            ">x=0.917, f()=0.603377, actual=0.480\n",
            ">x=0.926, f()=0.588373, actual=0.530\n",
            ">x=0.922, f()=0.593343, actual=0.781\n",
            ">x=0.792, f()=0.198261, actual=-0.030\n",
            ">x=0.936, f()=0.565457, actual=0.342\n",
            ">x=0.912, f()=0.597191, actual=0.657\n",
            ">x=0.916, f()=0.598721, actual=0.833\n",
            ">x=0.891, f()=0.574226, actual=0.809\n",
            ">x=0.881, f()=0.550226, actual=0.631\n",
            ">x=0.911, f()=0.612476, actual=0.778\n",
            ">x=0.910, f()=0.616234, actual=0.909\n",
            ">x=0.911, f()=0.623744, actual=0.587\n",
            ">x=0.916, f()=0.622361, actual=0.549\n",
            ">x=0.914, f()=0.621295, actual=0.802\n",
            ">x=0.907, f()=0.623119, actual=0.939\n",
            ">x=0.932, f()=0.598403, actual=0.414\n",
            ">x=0.912, f()=0.628617, actual=0.767\n",
            ">x=0.910, f()=0.631430, actual=0.731\n",
            ">x=0.916, f()=0.632189, actual=0.486\n",
            ">x=0.919, f()=0.625961, actual=0.506\n",
            ">x=0.901, f()=0.619725, actual=0.818\n",
            ">x=0.943, f()=0.533724, actual=-0.101\n",
            ">x=0.396, f()=0.068976, actual=0.118\n",
            ">x=0.907, f()=0.623847, actual=0.805\n",
            ">x=0.908, f()=0.627342, actual=0.736\n",
            ">x=0.629, f()=0.063004, actual=-0.066\n",
            ">x=0.907, f()=0.629735, actual=0.914\n",
            ">x=0.908, f()=0.634902, actual=0.878\n",
            ">x=0.902, f()=0.637901, actual=0.685\n",
            ">x=0.892, f()=0.625419, actual=0.465\n",
            ">x=0.911, f()=0.636137, actual=0.909\n",
            ">x=0.876, f()=0.578763, actual=0.423\n",
            ">x=0.885, f()=0.606366, actual=0.465\n",
            ">x=0.901, f()=0.634075, actual=0.767\n",
            ">x=0.894, f()=0.625314, actual=0.727\n",
            ">x=0.909, f()=0.641137, actual=0.819\n",
            ">x=0.917, f()=0.637106, actual=0.842\n",
            ">x=0.904, f()=0.645946, actual=1.058\n",
            ">x=0.900, f()=0.649679, actual=0.803\n",
            ">x=0.918, f()=0.645798, actual=0.570\n",
            ">x=0.895, f()=0.643307, actual=0.835\n",
            ">x=0.906, f()=0.657706, actual=0.899\n",
            ">x=0.885, f()=0.627667, actual=0.622\n",
            ">x=0.905, f()=0.661006, actual=0.538\n",
            ">x=0.904, f()=0.658903, actual=0.780\n",
            ">x=0.903, f()=0.660194, actual=0.852\n",
            ">x=0.908, f()=0.663659, actual=0.787\n",
            ">x=0.904, f()=0.664757, actual=0.724\n",
            ">x=0.907, f()=0.666376, actual=0.800\n",
            ">x=0.918, f()=0.657103, actual=0.761\n",
            ">x=0.910, f()=0.668555, actual=0.854\n",
            ">x=0.910, f()=0.671198, actual=0.733\n",
            ">x=0.903, f()=0.671068, actual=0.826\n",
            ">x=0.892, f()=0.657682, actual=0.782\n",
            ">x=0.910, f()=0.675293, actual=0.711\n",
            ">x=0.899, f()=0.671418, actual=0.862\n",
            ">x=0.910, f()=0.678078, actual=0.735\n",
            ">x=0.904, f()=0.679099, actual=0.696\n",
            ">x=0.551, f()=0.129304, actual=0.059\n",
            ">x=0.743, f()=0.060009, actual=0.090\n",
            ">x=0.907, f()=0.679673, actual=0.794\n",
            ">x=0.907, f()=0.680969, actual=0.783\n",
            ">x=0.901, f()=0.679427, actual=0.767\n",
            ">x=0.971, f()=0.122850, actual=0.036\n"
          ],
          "name": "stdout"
        },
        {
          "output_type": "display_data",
          "data": {
            "image/png": "[encoded data removed]",
            "text/plain": [
              "<Figure size 432x288 with 1 Axes>"
            ]
          },
          "metadata": {
            "tags": [],
            "needs_background": "light"
          }
        },
        {
          "output_type": "stream",
          "text": [
            "Best Result: x=0.904, y=1.058\n"
          ],
          "name": "stdout"
        }
      ]
    },
    {
      "cell_type": "code",
      "metadata": {
        "id": "enutbNlGbrM2"
      },
      "source": [
        ""
      ],
      "execution_count": null,
      "outputs": []
    }
  ]
}